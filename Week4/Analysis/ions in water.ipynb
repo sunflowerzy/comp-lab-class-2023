{
 "cells": [
  {
   "cell_type": "code",
   "execution_count": 1,
   "metadata": {},
   "outputs": [],
   "source": [
    "import mdtraj as md\n",
    "import numpy as np  # Import NumPy\n",
    "import matplotlib.pyplot as plt"
   ]
  },
  {
   "cell_type": "code",
   "execution_count": null,
   "metadata": {},
   "outputs": [],
   "source": [
    "traj = md.load('concatenated.xtc', top='step5_8.gro')\n"
   ]
  },
  {
   "cell_type": "code",
   "execution_count": null,
   "metadata": {},
   "outputs": [],
   "source": [
    "water_oxygens = traj.top.select('name OW')\n",
    "sodium_ions = traj.top.select('name SOD')\n",
    "chlorine = traj.top.select('name CLA')"
   ]
  },
  {
   "cell_type": "code",
   "execution_count": null,
   "metadata": {},
   "outputs": [],
   "source": [
    "msd_water = md.compute_mean_squared_displacement(traj, atom_indices=water_oxygens)\n",
    "msd_sodium = md.compute_mean_squared_displacement(traj, atom_indices=sodium_ions)\n",
    "msd_chlorine = md.compute_mean_squared_displacement(traj, atom_indices=chlorine)"
   ]
  },
  {
   "cell_type": "code",
   "execution_count": null,
   "metadata": {},
   "outputs": [],
   "source": [
    "time = np.arange(len(traj)) * traj.timestep"
   ]
  },
  {
   "cell_type": "code",
   "execution_count": null,
   "metadata": {},
   "outputs": [],
   "source": [
    "plt.figure(figsize=(10, 6))\n",
    "plt.plot(time, msd_water, label='Water Oxygens', linewidth=2)\n",
    "plt.plot(time, msd_sodium, label='Sodium Ions', linewidth=2)\n",
    "plt.plot(time, chlorine, label='chlorine', linewidth=2)\n",
    "\n",
    "plt.xlabel('Time (ps)')\n",
    "plt.ylabel('Mean Squared Displacement (Angstrom^2)')\n",
    "plt.legend()\n",
    "plt.title('Mean Squared Displacement vs. Time')\n",
    "plt.grid(True)\n",
    "\n",
    "# Save the plot to the Figures folder\n",
    "plt.savefig('Figures/msd_plot.png')\n",
    "plt.show()"
   ]
  },
  {
   "cell_type": "code",
   "execution_count": null,
   "metadata": {},
   "outputs": [],
   "source": []
  },
  {
   "cell_type": "code",
   "execution_count": null,
   "metadata": {},
   "outputs": [],
   "source": []
  }
 ],
 "metadata": {
  "kernelspec": {
   "display_name": "lab_env_2023",
   "language": "python",
   "name": "lab_env_2023"
  },
  "language_info": {
   "codemirror_mode": {
    "name": "ipython",
    "version": 3
   },
   "file_extension": ".py",
   "mimetype": "text/x-python",
   "name": "python",
   "nbconvert_exporter": "python",
   "pygments_lexer": "ipython3",
   "version": "3.9.12"
  },
  "vscode": {
   "interpreter": {
    "hash": "31f2aee4e71d21fbe5cf8b01ff0e069b9275f58929596ceb00d14d90e3e16cd6"
   }
  }
 },
 "nbformat": 4,
 "nbformat_minor": 2
}
