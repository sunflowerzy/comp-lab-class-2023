{
 "cells": [
  {
   "cell_type": "code",
   "execution_count": 1,
   "metadata": {},
   "outputs": [],
   "source": [
    "import numpy as np\n",
    "import mdtraj as md\n",
    "import matplotlib.pyplot as plt\n"
   ]
  },
  {
   "cell_type": "code",
   "execution_count": 7,
   "metadata": {},
   "outputs": [],
   "source": [
    "import mdtraj as md\n",
    "\n",
    "# Load crystal structure\n",
    "crystal_traj = md.load(\"2W9T.pdb\")\n",
    "\n",
    "# Load Alphafold prediction\n",
    "alphafold_traj = md.load(\"relaxed_model_1_pred_0.pdb\")\n",
    "\n",
    "# Align structures\n",
    "aligned_traj = alphafold_traj.superpose(crystal_traj, atom_indices=alphafold_traj.top.select(\"name CA\"))\n",
    "\n",
    "# Calculate RMSD for side-chains (all heavy atoms except alpha-carbons and backbone)\n",
    "side_chain_indices = set(aligned_traj.top.select(\"all\")) - set(aligned_traj.top.select(\"name CA or backbone\"))\n",
    "side_chain_indices = list(side_chain_indices)  # Convert set to list\n",
    "rmsd_side_chain = md.rmsd(aligned_traj, crystal_traj, atom_indices=side_chain_indices)"
   ]
  },
  {
   "cell_type": "code",
   "execution_count": 9,
   "metadata": {},
   "outputs": [
    {
     "data": {
      "image/png": "[encoded data removed]",
      "text/plain": [
       "<Figure size 432x288 with 1 Axes>"
      ]
     },
     "metadata": {
      "needs_background": "light"
     },
     "output_type": "display_data"
    }
   ],
   "source": [
    "import matplotlib.pyplot as plt\n",
    "import numpy as np\n",
    "\n",
    "labels = ['Alpha-Carbons', 'Backbone', 'Side-Chains']\n",
    "rmsd_values = [np.mean(rmsd_ca), np.mean(rmsd_backbone), np.mean(rmsd_side_chain)]\n",
    "colors = ['blue', 'orange', 'green']  # Choose colors for each category\n",
    "\n",
    "plt.bar(labels, rmsd_values, color=colors)\n",
    "plt.ylabel('RMSD (Å)')\n",
    "plt.title('RMSD of Alphafold Prediction to Crystal Structure')\n",
    "plt.show()"
   ]
  }
 ],
 "metadata": {
  "kernelspec": {
   "display_name": "Python 3",
   "language": "python",
   "name": "python3"
  },
  "language_info": {
   "codemirror_mode": {
    "name": "ipython",
    "version": 3
   },
   "file_extension": ".py",
   "mimetype": "text/x-python",
   "name": "python",
   "nbconvert_exporter": "python",
   "pygments_lexer": "ipython3",
   "version": "3.8.6"
  }
 },
 "nbformat": 4,
 "nbformat_minor": 4
}
