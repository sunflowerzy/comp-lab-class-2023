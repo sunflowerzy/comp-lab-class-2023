{
 "cells": [
  {
   "cell_type": "code",
   "execution_count": 1,
   "metadata": {},
   "outputs": [
    {
     "name": "stderr",
     "output_type": "stream",
     "text": [
      "Matplotlib is building the font cache; this may take a moment.\n"
     ]
    }
   ],
   "source": [
    "# this notebook is for plotting\n",
    "# the end to end analysis\n",
    "import numpy as np\n",
    "import matplotlib.pyplot as plt\n",
    "#load mdtraj\n",
    "import mdtraj as md"
   ]
  },
  {
   "cell_type": "code",
   "execution_count": 2,
   "metadata": {},
   "outputs": [
    {
     "ename": "FileNotFoundError",
     "evalue": "[Errno 2] No such file or directory: '/home/gmh4/projects/CompLab/comp-lab-class/Week2/Analysis/'",
     "output_type": "error",
     "traceback": [
      "\u001b[0;31m---------------------------------------------------------------------------\u001b[0m",
      "\u001b[0;31mFileNotFoundError\u001b[0m                         Traceback (most recent call last)",
      "Cell \u001b[0;32mIn [2], line 3\u001b[0m\n\u001b[1;32m      1\u001b[0m \u001b[38;5;28;01mimport\u001b[39;00m \u001b[38;5;21;01mos\u001b[39;00m\n\u001b[1;32m      2\u001b[0m \u001b[38;5;66;03m# change python directory to /home/gmh4/projects/CompLab/comp-lab-class\u001b[39;00m\n\u001b[0;32m----> 3\u001b[0m \u001b[43mos\u001b[49m\u001b[38;5;241;43m.\u001b[39;49m\u001b[43mchdir\u001b[49m\u001b[43m(\u001b[49m\u001b[38;5;124;43m'\u001b[39;49m\u001b[38;5;124;43m/home/gmh4/projects/CompLab/comp-lab-class/Week2/Analysis/\u001b[39;49m\u001b[38;5;124;43m'\u001b[39;49m\u001b[43m)\u001b[49m\n\u001b[1;32m      5\u001b[0m \u001b[38;5;66;03m# top file is ../Data/1hz3_T310.start.nowater.gro\u001b[39;00m\n\u001b[1;32m      6\u001b[0m \u001b[38;5;66;03m# trajectory file is ../Data/1hz3_T310.stepid25000000.every100ps.nowater.xtc\u001b[39;00m\n\u001b[1;32m      7\u001b[0m \u001b[38;5;66;03m# load the trajectory\u001b[39;00m\n\u001b[1;32m      8\u001b[0m traj \u001b[38;5;241m=\u001b[39m md\u001b[38;5;241m.\u001b[39mload_xtc(\u001b[38;5;124m'\u001b[39m\u001b[38;5;124m../Data/1hz3_T310.stepid25000000.every100ps.nowater.xtc\u001b[39m\u001b[38;5;124m'\u001b[39m, top\u001b[38;5;241m=\u001b[39m\u001b[38;5;124m'\u001b[39m\u001b[38;5;124m../Data/1hz3_T310.start.nowater.gro\u001b[39m\u001b[38;5;124m'\u001b[39m)\n",
      "\u001b[0;31mFileNotFoundError\u001b[0m: [Errno 2] No such file or directory: '/home/gmh4/projects/CompLab/comp-lab-class/Week2/Analysis/'"
     ]
    }
   ],
   "source": [
    "\n",
    "\n",
    "import os\n",
    "# change python directory to /home/gmh4/projects/CompLab/comp-lab-class\n",
    "os.chdir('/home/gmh4/projects/CompLab/comp-lab-class/Week2/Analysis/')\n",
    "\n",
    "# top file is ../Data/1hz3_T310.start.nowater.gro\n",
    "# trajectory file is ../Data/1hz3_T310.stepid25000000.every100ps.nowater.xtc\n",
    "# load the trajectory\n",
    "traj = md.load_xtc('../Data/1hz3_T310.stepid25000000.every100ps.nowater.xtc', top='../Data/1hz3_T310.start.nowater.gro')"
   ]
  },
  {
   "cell_type": "code",
   "execution_count": null,
   "metadata": {},
   "outputs": [],
   "source": [
    "# compute the distance between the first and last atom\n",
    "def end_end(traj):\n",
    "    # get the first and last atom\n",
    "    first = traj.xyz[:,0,:]\n",
    "    last = traj.xyz[:,-1,:]\n",
    "    # compute the distance between the first and last atom\n",
    "    dist = np.sqrt(np.sum((first-last)**2, axis=1))\n",
    "    return dist\n",
    "\n",
    "# compute the distance between the first and last atom\n",
    "dist = end_end(traj)\n",
    "\n",
    "#plot distance vs time\n",
    "plt.plot(traj.time, dist)\n",
    "\n"
   ]
  },
  {
   "cell_type": "code",
   "execution_count": 4,
   "metadata": {},
   "outputs": [
    {
     "data": {
      "image/png": "[encoded data removed]",
      "text/plain": [
       "<Figure size 640x480 with 1 Axes>"
      ]
     },
     "metadata": {},
     "output_type": "display_data"
    }
   ],
   "source": [
    "# make this plot look nice\n",
    "plt.xlabel('Time (ps)')\n",
    "plt.ylabel('Distance (nm)')\n",
    "plt.title('End to End Distance')\n",
    "plt.show()\n"
   ]
  },
  {
   "cell_type": "code",
   "execution_count": null,
   "metadata": {},
   "outputs": [],
   "source": []
  }
 ],
 "metadata": {
  "kernelspec": {
   "display_name": "lab_env_2023",
   "language": "python",
   "name": "lab_env_2023"
  },
  "language_info": {
   "codemirror_mode": {
    "name": "ipython",
    "version": 3
   },
   "file_extension": ".py",
   "mimetype": "text/x-python",
   "name": "python",
   "nbconvert_exporter": "python",
   "pygments_lexer": "ipython3",
   "version": "3.9.12"
  },
  "vscode": {
   "interpreter": {
    "hash": "31f2aee4e71d21fbe5cf8b01ff0e069b9275f58929596ceb00d14d90e3e16cd6"
   }
  }
 },
 "nbformat": 4,
 "nbformat_minor": 2
}
